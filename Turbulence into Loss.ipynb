{
 "cells": [
  {
   "cell_type": "code",
   "execution_count": 3,
   "id": "4ba8277a-a990-44bf-a179-e409dfef4dc1",
   "metadata": {},
   "outputs": [
    {
     "name": "stdout",
     "output_type": "stream",
     "text": [
      "Turbulence-induced loss: -0.86 dB\n"
     ]
    }
   ],
   "source": [
    "import numpy as np\n",
    "\n",
    "def turbulence_loss(Cn2, wavelength, path_length):\n",
    "    \"\"\"\n",
    "    Converting turbulence Cn^2 value into a loss in dB due to turbulence.\n",
    "\n",
    "    Parameters:\n",
    "    Cn2 (float): Refractive index structure constant (Cn^2) in m^-2/3.\n",
    "    wavelength (float): Wavelength of the optical signal in meters.\n",
    "    path_distance (float): Propagation path length in meters.\n",
    "\n",
    "    Returns:\n",
    "    float: Turbulence-induced loss in dB.\n",
    "    \"\"\"\n",
    "    \n",
    "    # Calculate the wave number k\n",
    "    k = 2 * np.pi / wavelength\n",
    "    \n",
    "    # Calculate the Rytov variance sigma_R^2\n",
    "    sigma_R2 = 1.23 * Cn2 * (k ** (7 / 6)) * (path_distance ** (11 / 6))\n",
    "    \n",
    "    # Calculate the turbulence-induced loss in dB\n",
    "    loss_dB = 10 * np.log10(np.exp(-sigma_R2))\n",
    "    \n",
    "    return loss_dB\n",
    "\n",
    "# Example usage:\n",
    "Cn2_value = 1e-14  # Example Cn^2 value in m^-2/3\n",
    "wavelength = 1.55e-6  # Example wavelength\n",
    "path_distance = 1000  # Example path length (meters)\n",
    "\n",
    "loss_in_dB = turbulence_loss(Cn2_value, wavelength, path_distance)\n",
    "print(f\"Turbulence-induced loss: {loss_in_dB:.2f} dB\")\n"
   ]
  },
  {
   "cell_type": "code",
   "execution_count": null,
   "id": "a458dd64-b7c5-4a19-9ba1-88960d12c3df",
   "metadata": {},
   "outputs": [],
   "source": []
  }
 ],
 "metadata": {
  "kernelspec": {
   "display_name": "Python 3 (ipykernel)",
   "language": "python",
   "name": "python3"
  },
  "language_info": {
   "codemirror_mode": {
    "name": "ipython",
    "version": 3
   },
   "file_extension": ".py",
   "mimetype": "text/x-python",
   "name": "python",
   "nbconvert_exporter": "python",
   "pygments_lexer": "ipython3",
   "version": "3.11.7"
  }
 },
 "nbformat": 4,
 "nbformat_minor": 5
}
