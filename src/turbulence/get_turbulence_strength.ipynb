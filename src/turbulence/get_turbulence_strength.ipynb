{
 "cells": [
  {
   "cell_type": "code",
   "execution_count": 19,
   "metadata": {},
   "outputs": [
    {
     "name": "stdout",
     "output_type": "stream",
     "text": [
      "Turbulence strength during the day at location (30.7128, -74.006): 1.7691593259659364e-12\n",
      "Turbulence strength during the night at location (30.7128, -74.006): 1.7962219748298344e-12\n"
     ]
    }
   ],
   "source": [
    "import numpy as np\n",
    "from astropy.io import fits\n",
    "\n",
    "# Function to read FITS file and get turbulence data\n",
    "def read_turbulence_data(fits_file, lat, lon):\n",
    "    with fits.open(fits_file) as hdul:\n",
    "        data = hdul[0].data\n",
    "\n",
    "        # Define the geographical bounds\n",
    "        lat_min = -90.0\n",
    "        lat_max = 90.0\n",
    "        lon_min = -180.0\n",
    "        lon_max = 180.0\n",
    "        \n",
    "        # Get the resolution of the data\n",
    "        lat_res = (lat_max - lat_min) / data.shape[0]\n",
    "        lon_res = (lon_max - lon_min) / data.shape[1]\n",
    "\n",
    "        # Find the nearest grid point to the requested latitude and longitude\n",
    "        lat_idx = int((lat - lat_min) / lat_res)\n",
    "        lon_idx = int((lon - lon_min) / lon_res)\n",
    "\n",
    "        # Ensure the indices are within the data bounds\n",
    "        lat_idx = np.clip(lat_idx, 0, data.shape[0] - 1)\n",
    "        lon_idx = np.clip(lon_idx, 0, data.shape[1] - 1)\n",
    "\n",
    "        # Get the turbulence strength value at the specified location\n",
    "        turbulence_strength = data[lat_idx, lon_idx]\n",
    "\n",
    "        return turbulence_strength\n",
    "    \n",
    "# Example usage\n",
    "fits_file_day = '/Users/eugenerotherham/Documents/SGAC /SGAC_FSOC_PROJECT/cn2_ml_sfc_day_noTwilight.fits'\n",
    "fits_file_night = '/Users/eugenerotherham/Documents/SGAC /SGAC_FSOC_PROJECT/cn2_ml_sfc_night_noTwilight.fits'\n",
    "\n",
    "latitude = 30.7128  # Example latitude for New York City\n",
    "longitude = -74.0060  # Example longitude for New York City\n",
    "\n",
    "ogs_turbulence_strength_day = read_turbulence_data(fits_file_day, latitude, longitude)\n",
    "ogs_turbulence_strength_night = read_turbulence_data(fits_file_night, latitude, longitude)\n",
    "\n",
    "print(f\"Turbulence strength during the day at location ({latitude}, {longitude}): {ogs_turbulence_strength_day}\")\n",
    "print(f\"Turbulence strength during the night at location ({latitude}, {longitude}): {ogs_turbulence_strength_night}\")\n"
   ]
  }
 ],
 "metadata": {
  "kernelspec": {
   "display_name": "Atheras_Analytics",
   "language": "python",
   "name": "python3"
  },
  "language_info": {
   "codemirror_mode": {
    "name": "ipython",
    "version": 3
   },
   "file_extension": ".py",
   "mimetype": "text/x-python",
   "name": "python",
   "nbconvert_exporter": "python",
   "pygments_lexer": "ipython3",
   "version": "3.9.13"
  },
  "orig_nbformat": 4
 },
 "nbformat": 4,
 "nbformat_minor": 2
}
