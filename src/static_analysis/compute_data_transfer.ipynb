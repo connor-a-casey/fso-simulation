{
 "cells": [
  {
   "cell_type": "code",
   "execution_count": 1,
   "id": "844ec923-8f04-4152-b999-2217003a5bf2",
   "metadata": {},
   "outputs": [],
   "source": [
    "import math\n",
    "import numpy as np\n",
    "import matplotlib.pyplot as plt"
   ]
  },
  {
   "cell_type": "markdown",
   "id": "23f340a3-4620-43b7-8bf5-78cc02002103",
   "metadata": {},
   "source": [
    "Function Definitions"
   ]
  },
  {
   "cell_type": "code",
   "execution_count": 2,
   "id": "f05b97dd-8ccb-4271-81fe-03ff3a9aa90d",
   "metadata": {},
   "outputs": [],
   "source": [
    "def calculate_slant_range(latitude, longitude, ground_elevation, elevation, azimuth):\n",
    "    elevation_rad = math.radians(elevation)\n",
    "    ground_elevation_km = ground_elevation / 1000.0  # convert to kilometers\n",
    "    effective_radius = earth_radius_km + ground_elevation_km\n",
    "    slant_range = effective_radius * (1 / math.sin(elevation_rad))\n",
    "    return slant_range\n",
    "\n",
    "def calculate_free_space_loss(S, f):\n",
    "    Ls = 20 * math.log10(c / (4 * math.pi * S * f))\n",
    "    return Ls\n",
    "\n",
    "def calculate_antenna_gain(D, f, eta):\n",
    "    lambda_ = c / f\n",
    "    G = (math.pi * D / lambda_)**2\n",
    "    G_db = 10 * math.log10(eta * G)\n",
    "    return G_db\n",
    "\n",
    "def calculate_pointing_loss(theta_p, f, D):\n",
    "    theta_3dB = 21 / (f / 10**9 * D)\n",
    "    Lp = -12 * (theta_p / theta_3dB)**2\n",
    "    return Lp\n",
    "\n",
    "def calculate_system_noise_temperature(T):\n",
    "    Ts_dBi = 10 * math.log10(T)\n",
    "    return Ts_dBi\n",
    "\n",
    "def calculate_boltzmann_constant():\n",
    "    k_B_dBi = 10 * math.log10(k_B)\n",
    "    return k_B_dBi\n",
    "\n",
    "def calculate_data_rate(Power, SNR_required, margin, L_imp, L_a, G_t_net, Gr_net, Ls, k_B_dBi, Ts_dBi):\n",
    "    R_dB = Power - (SNR_required + margin) + L_imp + L_a + G_t_net + Gr_net + Ls - k_B_dBi - Ts_dBi\n",
    "    data_rate_bps = 10**(R_dB / 10)\n",
    "    return R_dB, data_rate_bps"
   ]
  },
  {
   "cell_type": "markdown",
   "id": "1177b0e7-f72b-48d2-b4b4-16320ea337bc",
   "metadata": {},
   "source": [
    "Constants"
   ]
  },
  {
   "cell_type": "code",
   "execution_count": 3,
   "id": "b7670c55-b00a-499d-ac90-465e1b3086e9",
   "metadata": {},
   "outputs": [],
   "source": [
    "c = 3 * 10**8  # speed of light in m/s\n",
    "k_B = 1.38 * 10**-23  # Boltzmann constant in J/K\n",
    "earth_radius_km = 6371  # Radius of Earth in kilometers"
   ]
  },
  {
   "cell_type": "markdown",
   "id": "d4ff870e-5e2b-43c0-8e86-2d8fe7f9a6ed",
   "metadata": {},
   "source": [
    "INPUT - Link Conditions"
   ]
  },
  {
   "cell_type": "code",
   "execution_count": 4,
   "id": "ef80aad5-9ab8-42df-b51d-6a7bafc06320",
   "metadata": {},
   "outputs": [],
   "source": [
    "f = 2.1 * 10**9\n",
    "D_r = 1\n",
    "eta_r = 0.55\n",
    "theta_pr = 0.001\n",
    "T = 135\n",
    "D_t = 1\n",
    "eta_t = 0.55\n",
    "theta_pt = 1\n",
    "G_t = 50\n",
    "SNR_required = 10\n",
    "margin = 3\n",
    "misc_losses = 0\n",
    "L_l = 1.96\n",
    "L_imp = 0.3\n",
    "L_a = 0.3\n",
    "Power = 18.65"
   ]
  },
  {
   "cell_type": "markdown",
   "id": "48d3842e-7ca5-420e-9860-3ca8e8aadfa3",
   "metadata": {},
   "source": [
    "INPUT - Ground Station Location"
   ]
  },
  {
   "cell_type": "code",
   "execution_count": 5,
   "id": "b422cbc8-e98c-4847-9d19-b25972d28810",
   "metadata": {},
   "outputs": [],
   "source": [
    "latitude = 52.5200\n",
    "longitude = 13.4050\n",
    "ground_elevation = 34  # in meters"
   ]
  },
  {
   "cell_type": "markdown",
   "id": "3b267dba-30b3-4a85-a3f5-2588b87ada8d",
   "metadata": {},
   "source": [
    "INPUT - Satellite Position (Static)"
   ]
  },
  {
   "cell_type": "code",
   "execution_count": 6,
   "id": "04701350-185e-4d7d-b841-784df33784a7",
   "metadata": {},
   "outputs": [],
   "source": [
    "elevation = 45.0\n",
    "azimuth = 135.0"
   ]
  },
  {
   "cell_type": "markdown",
   "id": "31ecc200-6fda-41b4-807d-72ff710eafaf",
   "metadata": {},
   "source": [
    "Calculating Slant Distance"
   ]
  },
  {
   "cell_type": "code",
   "execution_count": 7,
   "id": "33e9fd9d-0ef7-48f6-bc99-d00d3bf48c94",
   "metadata": {},
   "outputs": [
    {
     "name": "stdout",
     "output_type": "stream",
     "text": [
      "Slant range: 9010002.69 m\n"
     ]
    }
   ],
   "source": [
    "S = calculate_slant_range(latitude, longitude, ground_elevation, elevation, azimuth) * 1000  # in meters\n",
    "print(f\"Slant range: {S:.2f} m\")"
   ]
  },
  {
   "cell_type": "code",
   "execution_count": 8,
   "id": "3ca22514-a04c-462c-8d8a-e1805676261c",
   "metadata": {},
   "outputs": [
    {
     "name": "stdout",
     "output_type": "stream",
     "text": [
      "Free space loss (L_s) = -177.98 dB\n",
      "Receiver antenna peak gain (G_rp) = 24.25 dBi\n",
      "Receiver antenna pointing loss (L_p,r) = -0.00 dBi\n",
      "Receiver antenna net gain (G_r) = 24.25 dBi\n",
      "System noise temperature (T_s) = 21.30 dBi\n",
      "Boltzmann constant (k_B) = -228.60 dBi\n",
      "Transmit antenna pointing loss (L_p,t) = -0.12 dBi\n",
      "Transmit antenna peak gain (G_tp) = 24.25 dBi\n",
      "Transmit antenna net gain (G_t) = 22.17 dBi\n",
      "EIRP = 40.82 dB\n",
      "Data Rate = 81.98 dB\n",
      "Data Rate = 157920501.19 bits per second\n"
     ]
    }
   ],
   "source": [
    "Ls = calculate_free_space_loss(S, f)\n",
    "print(f\"Free space loss (L_s) = {Ls:.2f} dB\")\n",
    "\n",
    "Gr_db = calculate_antenna_gain(D_r, f, eta_r)\n",
    "print(f\"Receiver antenna peak gain (G_rp) = {Gr_db:.2f} dBi\")\n",
    "\n",
    "Lp_r = calculate_pointing_loss(theta_pr, f, D_r)\n",
    "print(f\"Receiver antenna pointing loss (L_p,r) = {Lp_r:.2f} dBi\")\n",
    "\n",
    "Gr_net = Gr_db + Lp_r\n",
    "print(f\"Receiver antenna net gain (G_r) = {Gr_net:.2f} dBi\")\n",
    "\n",
    "Ts_dBi = calculate_system_noise_temperature(T)\n",
    "print(f\"System noise temperature (T_s) = {Ts_dBi:.2f} dBi\")\n",
    "\n",
    "k_B_dBi = calculate_boltzmann_constant()\n",
    "print(f\"Boltzmann constant (k_B) = {k_B_dBi:.2f} dBi\")\n",
    "\n",
    "Lp_t = calculate_pointing_loss(theta_pt, f, D_t)\n",
    "print(f\"Transmit antenna pointing loss (L_p,t) = {Lp_t:.2f} dBi\")\n",
    "\n",
    "G_tp = calculate_antenna_gain(D_t, f, eta_t)\n",
    "print(f\"Transmit antenna peak gain (G_tp) = {G_tp:.2f} dBi\")\n",
    "\n",
    "G_t_net = G_tp + Lp_t - L_l\n",
    "print(f\"Transmit antenna net gain (G_t) = {G_t_net:.2f} dBi\")\n",
    "\n",
    "EIRP = Power + G_t_net\n",
    "print(f\"EIRP = {EIRP:.2f} dB\")\n",
    "\n",
    "R_dB, data_rate_bps = calculate_data_rate(Power, SNR_required, margin, L_imp, L_a, G_t_net, Gr_net, Ls, k_B_dBi, Ts_dBi)\n",
    "print(f\"Data Rate = {R_dB:.2f} dB\")\n",
    "print(f\"Data Rate = {data_rate_bps:.2f} bits per second\")\n"
   ]
  },
  {
   "cell_type": "code",
   "execution_count": null,
   "id": "c9115899-1e0b-4fb1-a3f4-ede5843b0c54",
   "metadata": {},
   "outputs": [],
   "source": []
  }
 ],
 "metadata": {
  "kernelspec": {
   "display_name": "Python 3 (ipykernel)",
   "language": "python",
   "name": "python3"
  },
  "language_info": {
   "codemirror_mode": {
    "name": "ipython",
    "version": 3
   },
   "file_extension": ".py",
   "mimetype": "text/x-python",
   "name": "python",
   "nbconvert_exporter": "python",
   "pygments_lexer": "ipython3",
   "version": "3.11.7"
  }
 },
 "nbformat": 4,
 "nbformat_minor": 5
}
