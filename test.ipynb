{
 "cells": [
  {
   "cell_type": "code",
   "execution_count": 118,
   "metadata": {},
   "outputs": [],
   "source": [
    "import pandas as pd"
   ]
  },
  {
   "cell_type": "code",
   "execution_count": 120,
   "metadata": {},
   "outputs": [],
   "source": [
    "cloud_ogs_1 = pd.read_csv(\"/Users/eugenerotherham/Documents/SGAC /SGAC_FSOC_PROJECT/trauen_cloud.csv\", sep=',', parse_dates=['time'])\n",
    "cloud_ogs_2 = pd.read_csv(\"/Users/eugenerotherham/Documents/SGAC /SGAC_FSOC_PROJECT/neme_cloud.csv\", sep=',', parse_dates=['time'])\n",
    "cloud_ogs_3 = pd.read_csv(\"/Users/eugenerotherham/Documents/SGAC /SGAC_FSOC_PROJECT/tenerife_cloud.csv\", sep=',', parse_dates=['time'])\n",
    "\n",
    "cloud_ogs_1 = cloud_ogs_1[['time', 'cloud_cover']]\n",
    "cloud_ogs_2 = cloud_ogs_2[['time', 'cloud_cover']]\n",
    "cloud_ogs_3 = cloud_ogs_3[['time', 'cloud_cover']]\n",
    "\n",
    "cloud_ogs_1['time'] = pd.to_datetime(cloud_ogs_1['time'])\n",
    "cloud_ogs_2['time'] = pd.to_datetime(cloud_ogs_2['time'])\n",
    "cloud_ogs_3['time'] = pd.to_datetime(cloud_ogs_3['time'])\n",
    "\n",
    "cloud_trauen_sorted = cloud_ogs_1.sort_values(by='time')\n",
    "cloud_neme_sorted = cloud_ogs_2.sort_values(by='time')\n",
    "cloud_tenerife_sorted = cloud_ogs_3.sort_values(by='time')\n",
    "\n",
    "cloud_trauen_sorted = cloud_trauen_sorted.rename(columns={'cloud_cover': 'cloud_trauen'})\n",
    "cloud_neme_sorted = cloud_neme_sorted.rename(columns={'cloud_cover': 'cloud_neme'})\n",
    "cloud_tenerife_sorted = cloud_tenerife_sorted.rename(columns={'cloud_cover': 'cloud_tenerife'})\n",
    "\n",
    "df_merged = pd.concat([cloud_trauen_sorted, cloud_neme_sorted, cloud_tenerife_sorted], axis=1)"
   ]
  },
  {
   "attachments": {},
   "cell_type": "markdown",
   "metadata": {},
   "source": [
    "AVAILABILITY ONE OGS"
   ]
  },
  {
   "cell_type": "code",
   "execution_count": 124,
   "metadata": {},
   "outputs": [
    {
     "name": "stdout",
     "output_type": "stream",
     "text": [
      "Percentage of 'cloud_tenerife' values below 1.75: 37.11%\n"
     ]
    }
   ],
   "source": [
    "# Check where 'cloud_tenerife' is below 1.75\n",
    "condition = df_merged['cloud_tenerife'] < 1.5\n",
    "\n",
    "# Calculate the percentage\n",
    "percentage = (condition.sum() / len(df_merged)) * 100\n",
    "\n",
    "print(f\"Percentage of 'cloud_tenerife' values below 1.75: {percentage:.2f}%\")"
   ]
  },
  {
   "attachments": {},
   "cell_type": "markdown",
   "metadata": {},
   "source": [
    "AVAILABILITY ALL THREE OGS"
   ]
  },
  {
   "cell_type": "code",
   "execution_count": 125,
   "metadata": {},
   "outputs": [
    {
     "name": "stdout",
     "output_type": "stream",
     "text": [
      "Percentage of rows with at least one value below 1.75: 48.25%\n"
     ]
    }
   ],
   "source": [
    "# Check where at least one column is below 1.75\n",
    "condition = (df_merged['cloud_trauen'] < 1.5) | (df_merged['cloud_neme'] < 1.5) | (df_merged['cloud_tenerife'] < 1.5)\n",
    "\n",
    "# Calculate the percentage\n",
    "percentage = (condition.sum() / len(df_merged)) * 100\n",
    "\n",
    "print(f\"Percentage of rows with at least one value below 1.75: {percentage:.2f}%\")"
   ]
  }
 ],
 "metadata": {
  "kernelspec": {
   "display_name": "Atheras_Analytics",
   "language": "python",
   "name": "python3"
  },
  "language_info": {
   "codemirror_mode": {
    "name": "ipython",
    "version": 3
   },
   "file_extension": ".py",
   "mimetype": "text/x-python",
   "name": "python",
   "nbconvert_exporter": "python",
   "pygments_lexer": "ipython3",
   "version": "3.9.13"
  },
  "orig_nbformat": 4
 },
 "nbformat": 4,
 "nbformat_minor": 2
}
